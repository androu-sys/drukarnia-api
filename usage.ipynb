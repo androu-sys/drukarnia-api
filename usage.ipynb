{
 "cells": [
  {
   "cell_type": "code",
   "execution_count": 1,
   "metadata": {
    "collapsed": true
   },
   "outputs": [
    {
     "name": "stdout",
     "output_type": "stream",
     "text": [
      "Слава Україні 🇺🇦\n"
     ]
    }
   ],
   "source": [
    "%load_ext autoreload\n",
    "%autoreload 2\n",
    "\n",
    "import drukarnia_api"
   ]
  },
  {
   "cell_type": "markdown",
   "source": [
    "### author"
   ],
   "metadata": {
    "collapsed": false
   },
   "outputs": [],
   "execution_count": 1
  },
  {
   "cell_type": "code",
   "execution_count": 2,
   "outputs": [],
   "source": [
    "# create an author\n",
    "author = drukarnia_api.Author(username='drukarnia')"
   ],
   "metadata": {
    "collapsed": false
   }
  },
  {
   "cell_type": "code",
   "execution_count": 3,
   "outputs": [],
   "source": [
    "# Context manager creates an aiohttp session\n",
    "async with author:\n",
    "    # Password and email are not stored. Only retrievable data is cookie strings.\n",
    "    await author.login(email='pantry.gene.0y@icloud.com', password='topciz-3haxPo-mezvuz')"
   ],
   "metadata": {
    "collapsed": false
   }
  },
  {
   "cell_type": "code",
   "execution_count": 4,
   "outputs": [
    {
     "name": "stdout",
     "output_type": "stream",
     "text": [
      "my follower's name is Читач🍌\n",
      "my follower was created at 2023-04-15 12:28:04.246000\n",
      "am I subscribed to my follower? - False\n"
     ]
    }
   ],
   "source": [
    "async with author:\n",
    "    follower, *_ = await author.get_followers(n_collect=1)\n",
    "\n",
    "    # collect more data about the user\n",
    "    await follower.collect_data()\n",
    "\n",
    "    print('my follower\\'s name is', await follower.name)\n",
    "    print('my follower was created at', await follower.created_at)\n",
    "    print('am I subscribed to my follower? -', await follower.is_subscribed)"
   ],
   "metadata": {
    "collapsed": false
   }
  },
  {
   "cell_type": "code",
   "execution_count": 5,
   "outputs": [
    {
     "name": "stdout",
     "output_type": "stream",
     "text": [
      "am I subscribed to my follower now? - False\n"
     ]
    }
   ],
   "source": [
    "async with follower:\n",
    "    await follower.subscribe(unsubscribe=True)\n",
    "\n",
    "    # to be 100% sure we will request new data\n",
    "    await follower.collect_data()\n",
    "\n",
    "    print('am I subscribed to my follower now? -', await follower.is_subscribed)"
   ],
   "metadata": {
    "collapsed": false
   }
  },
  {
   "cell_type": "code",
   "execution_count": 6,
   "outputs": [
    {
     "name": "stdout",
     "output_type": "stream",
     "text": [
      "ブラックライト\n"
     ]
    }
   ],
   "source": [
    "async with follower:\n",
    "    fol1, *_ = await follower.get_followings(n_collect=5)\n",
    "    print(await fol1.name)"
   ],
   "metadata": {
    "collapsed": false
   }
  },
  {
   "cell_type": "code",
   "execution_count": 7,
   "outputs": [
    {
     "ename": "DrukarniaAPIError",
     "evalue": "\n        Request Type: GET\n        Response Status: 429\n        Request To: https://drukarnia.com.ua/api/relationships/643a985486518bfbf4936848/following?page=30\n        Error Message: \"ThrottlerException: Too Many Requests\"\n        ",
     "output_type": "error",
     "traceback": [
      "\u001B[0;31m---------------------------------------------------------------------------\u001B[0m",
      "\u001B[0;31mDrukarniaAPIError\u001B[0m                         Traceback (most recent call last)",
      "Cell \u001B[0;32mIn[7], line 3\u001B[0m\n\u001B[1;32m      1\u001B[0m \u001B[38;5;28;01masync\u001B[39;00m \u001B[38;5;28;01mwith\u001B[39;00m follower:\n\u001B[1;32m      2\u001B[0m     \u001B[38;5;66;03m# collect all followings\u001B[39;00m\n\u001B[0;32m----> 3\u001B[0m     all_followings \u001B[38;5;241m=\u001B[39m \u001B[38;5;28;01mawait\u001B[39;00m follower\u001B[38;5;241m.\u001B[39mget_followings()\n\u001B[1;32m      5\u001B[0m     \u001B[38;5;28mprint\u001B[39m(\u001B[38;5;28mlen\u001B[39m(all_followings))\n\u001B[1;32m      7\u001B[0m \u001B[38;5;66;03m# results an error\u001B[39;00m\n",
      "File \u001B[0;32m~/Desktop/DrukarniaAPIWrapper/drukarnia_api/objects/base_object.py:159\u001B[0m, in \u001B[0;36mDrukarniaElement.requires_attributes.<locals>.decorator.<locals>.wrapper\u001B[0;34m(self_instance, *args, **kwargs)\u001B[0m\n\u001B[1;32m    155\u001B[0m \u001B[38;5;28;01mif\u001B[39;00m \u001B[38;5;28many\u001B[39m([(\u001B[38;5;28;01mawait\u001B[39;00m \u001B[38;5;28mgetattr\u001B[39m(self_instance, attr)) \u001B[38;5;129;01mis\u001B[39;00m \u001B[38;5;28;01mNone\u001B[39;00m \u001B[38;5;28;01mfor\u001B[39;00m attr \u001B[38;5;129;01min\u001B[39;00m attrs]):\n\u001B[1;32m    156\u001B[0m     \u001B[38;5;28;01mraise\u001B[39;00m \u001B[38;5;167;01mValueError\u001B[39;00m(\u001B[38;5;124mf\u001B[39m\u001B[38;5;124m'\u001B[39m\u001B[38;5;124mThis function requires attributes \u001B[39m\u001B[38;5;132;01m{\u001B[39;00mattrs\u001B[38;5;132;01m}\u001B[39;00m\u001B[38;5;124m, \u001B[39m\u001B[38;5;124m'\u001B[39m\n\u001B[1;32m    157\u001B[0m                      \u001B[38;5;124mf\u001B[39m\u001B[38;5;124m'\u001B[39m\u001B[38;5;124mwhich are missing. Possible solutions: \u001B[39m\u001B[38;5;132;01m{\u001B[39;00msolution\u001B[38;5;132;01m}\u001B[39;00m\u001B[38;5;124m'\u001B[39m)\n\u001B[0;32m--> 159\u001B[0m \u001B[38;5;28;01mreturn\u001B[39;00m \u001B[38;5;28;01mawait\u001B[39;00m func(self_instance, \u001B[38;5;241m*\u001B[39margs, \u001B[38;5;241m*\u001B[39m\u001B[38;5;241m*\u001B[39mkwargs)\n",
      "File \u001B[0;32m~/Desktop/DrukarniaAPIWrapper/drukarnia_api/objects/author.py:91\u001B[0m, in \u001B[0;36mAuthor.get_followings\u001B[0;34m(self, create_authors, offset, results_per_page, n_collect, *args, **kwargs)\u001B[0m\n\u001B[1;32m     75\u001B[0m \u001B[38;5;250m\u001B[39m\u001B[38;5;124;03m\"\"\"\u001B[39;00m\n\u001B[1;32m     76\u001B[0m \u001B[38;5;124;03mGet the followings of the author.\u001B[39;00m\n\u001B[1;32m     77\u001B[0m \n\u001B[0;32m   (...)\u001B[0m\n\u001B[1;32m     87\u001B[0m \u001B[38;5;124;03m    Tuple['Author'] or Tuple[Dict]: A tuple of Author objects or dictionaries representing the followings.\u001B[39;00m\n\u001B[1;32m     88\u001B[0m \u001B[38;5;124;03m\"\"\"\u001B[39;00m\n\u001B[1;32m     90\u001B[0m \u001B[38;5;66;03m# Make a request to get the followings of the author\u001B[39;00m\n\u001B[0;32m---> 91\u001B[0m followings \u001B[38;5;241m=\u001B[39m \u001B[38;5;28;01mawait\u001B[39;00m \u001B[38;5;28mself\u001B[39m\u001B[38;5;241m.\u001B[39mmulti_page_request(\u001B[38;5;124mf\u001B[39m\u001B[38;5;124m'\u001B[39m\u001B[38;5;124m/api/relationships/\u001B[39m\u001B[38;5;132;01m{\u001B[39;00m\u001B[38;5;28;01mawait\u001B[39;00m\u001B[38;5;250m \u001B[39m\u001B[38;5;28mself\u001B[39m\u001B[38;5;241m.\u001B[39mauthor_id\u001B[38;5;132;01m}\u001B[39;00m\u001B[38;5;124m/following\u001B[39m\u001B[38;5;124m'\u001B[39m,\n\u001B[1;32m     92\u001B[0m                                            offset, results_per_page, n_collect, \u001B[38;5;241m*\u001B[39margs, \u001B[38;5;241m*\u001B[39m\u001B[38;5;241m*\u001B[39mkwargs)\n\u001B[1;32m     94\u001B[0m \u001B[38;5;28;01mif\u001B[39;00m create_authors:\n\u001B[1;32m     95\u001B[0m     followings \u001B[38;5;241m=\u001B[39m \u001B[38;5;28;01mawait\u001B[39;00m data2authors(followings, \u001B[38;5;28mself\u001B[39m\u001B[38;5;241m.\u001B[39msession)\n",
      "File \u001B[0;32m~/Desktop/DrukarniaAPIWrapper/drukarnia_api/objects/base_object.py:99\u001B[0m, in \u001B[0;36mDrukarniaElement.multi_page_request\u001B[0;34m(self, direct_url, offset, results_per_page, n_collect, key, **kwargs)\u001B[0m\n\u001B[1;32m     95\u001B[0m \u001B[38;5;28;01massert\u001B[39;00m (n_collect \u001B[38;5;129;01mis\u001B[39;00m \u001B[38;5;28;01mNone\u001B[39;00m) \u001B[38;5;129;01mor\u001B[39;00m (n_collect \u001B[38;5;241m>\u001B[39m\u001B[38;5;241m=\u001B[39m \u001B[38;5;241m1\u001B[39m), \u001B[38;5;124m'\u001B[39m\u001B[38;5;124mn_collect must be greater than or equal to one.\u001B[39m\u001B[38;5;124m'\u001B[39m\n\u001B[1;32m     97\u001B[0m n_results \u001B[38;5;241m=\u001B[39m (n_collect \u001B[38;5;241m/\u001B[39m\u001B[38;5;241m/\u001B[39m results_per_page \u001B[38;5;241m+\u001B[39m \u001B[38;5;28mint\u001B[39m(n_collect \u001B[38;5;241m%\u001B[39m results_per_page \u001B[38;5;241m!=\u001B[39m \u001B[38;5;241m0\u001B[39m)) \u001B[38;5;28;01mif\u001B[39;00m n_collect \u001B[38;5;28;01melse\u001B[39;00m \u001B[38;5;28;01mNone\u001B[39;00m\n\u001B[0;32m---> 99\u001B[0m data \u001B[38;5;241m=\u001B[39m \u001B[38;5;28;01mawait\u001B[39;00m \u001B[38;5;28mself\u001B[39m\u001B[38;5;241m.\u001B[39mrun_until_no_stop(\n\u001B[1;32m    100\u001B[0m     request_synthesizer\u001B[38;5;241m=\u001B[39m_synthesizer(offset, results_per_page, direct_url, kwargs),\n\u001B[1;32m    101\u001B[0m     not_stop_until\u001B[38;5;241m=\u001B[39m\u001B[38;5;28;01mlambda\u001B[39;00m result: result \u001B[38;5;241m!=\u001B[39m [],\n\u001B[1;32m    102\u001B[0m     n_results\u001B[38;5;241m=\u001B[39mn_results)\n\u001B[1;32m    104\u001B[0m \u001B[38;5;28;01mif\u001B[39;00m key \u001B[38;5;129;01mis\u001B[39;00m \u001B[38;5;28;01mNone\u001B[39;00m:\n\u001B[1;32m    105\u001B[0m     records \u001B[38;5;241m=\u001B[39m [record \u001B[38;5;28;01mfor\u001B[39;00m page \u001B[38;5;129;01min\u001B[39;00m data \u001B[38;5;28;01mfor\u001B[39;00m record \u001B[38;5;129;01min\u001B[39;00m page]\n",
      "File \u001B[0;32m~/Desktop/DrukarniaAPIWrapper/drukarnia_api/network/connection.py:140\u001B[0m, in \u001B[0;36mConnection.run_until_no_stop\u001B[0;34m(self, request_synthesizer, not_stop_until, n_results, batch_size)\u001B[0m\n\u001B[1;32m    137\u001B[0m     heuristics \u001B[38;5;241m=\u001B[39m heuristics[:n_results]\n\u001B[1;32m    138\u001B[0m     n_results \u001B[38;5;241m-\u001B[39m\u001B[38;5;241m=\u001B[39m batch_size\n\u001B[0;32m--> 140\u001B[0m _results \u001B[38;5;241m=\u001B[39m \u001B[38;5;28;01mawait\u001B[39;00m \u001B[38;5;28mself\u001B[39m\u001B[38;5;241m.\u001B[39mrequest_pool(heuristics\u001B[38;5;241m=\u001B[39mheuristics)\n\u001B[1;32m    141\u001B[0m responses \u001B[38;5;241m=\u001B[39m [_result \u001B[38;5;28;01mfor\u001B[39;00m _result \u001B[38;5;129;01min\u001B[39;00m _results \u001B[38;5;28;01mif\u001B[39;00m not_stop_until(_result)]\n\u001B[1;32m    143\u001B[0m all_results\u001B[38;5;241m.\u001B[39mextend(responses)\n",
      "File \u001B[0;32m~/Desktop/DrukarniaAPIWrapper/drukarnia_api/network/connection.py:110\u001B[0m, in \u001B[0;36mConnection.request_pool\u001B[0;34m(self, heuristics)\u001B[0m\n\u001B[1;32m    107\u001B[0m tasks \u001B[38;5;241m=\u001B[39m [\u001B[38;5;28mself\u001B[39m\u001B[38;5;241m.\u001B[39mrequest(\u001B[38;5;241m*\u001B[39m\u001B[38;5;241m*\u001B[39mkwargs) \u001B[38;5;28;01mfor\u001B[39;00m kwargs \u001B[38;5;129;01min\u001B[39;00m heuristics]\n\u001B[1;32m    109\u001B[0m \u001B[38;5;66;03m# Get results\u001B[39;00m\n\u001B[0;32m--> 110\u001B[0m \u001B[38;5;28;01mreturn\u001B[39;00m \u001B[38;5;28;01mawait\u001B[39;00m asyncio\u001B[38;5;241m.\u001B[39mgather(\u001B[38;5;241m*\u001B[39mtasks)\n",
      "File \u001B[0;32m~/Desktop/DrukarniaAPIWrapper/drukarnia_api/network/connection.py:93\u001B[0m, in \u001B[0;36mConnection.request\u001B[0;34m(self, method, url, output, **kwargs)\u001B[0m\n\u001B[1;32m     90\u001B[0m     kwargs[\u001B[38;5;124m'\u001B[39m\u001B[38;5;124mdata\u001B[39m\u001B[38;5;124m'\u001B[39m] \u001B[38;5;241m=\u001B[39m \u001B[38;5;28;01mawait\u001B[39;00m to_json(kwargs\u001B[38;5;241m.\u001B[39mget(\u001B[38;5;124m'\u001B[39m\u001B[38;5;124mdata\u001B[39m\u001B[38;5;124m'\u001B[39m, {}))\n\u001B[1;32m     92\u001B[0m \u001B[38;5;28;01masync\u001B[39;00m \u001B[38;5;28;01mwith\u001B[39;00m \u001B[38;5;28mself\u001B[39m\u001B[38;5;241m.\u001B[39msession\u001B[38;5;241m.\u001B[39mrequest(method\u001B[38;5;241m.\u001B[39mupper(), url, headers\u001B[38;5;241m=\u001B[39m\u001B[38;5;28mself\u001B[39m\u001B[38;5;241m.\u001B[39mheaders\u001B[38;5;241m.\u001B[39mstatic, \u001B[38;5;241m*\u001B[39m\u001B[38;5;241m*\u001B[39mkwargs) \u001B[38;5;28;01mas\u001B[39;00m response:\n\u001B[0;32m---> 93\u001B[0m     \u001B[38;5;28;01mreturn\u001B[39;00m \u001B[38;5;28;01mawait\u001B[39;00m _from_response(response, output)\n",
      "File \u001B[0;32m~/Desktop/DrukarniaAPIWrapper/drukarnia_api/network/utils.py:28\u001B[0m, in \u001B[0;36m_from_response\u001B[0;34m(response, output)\u001B[0m\n\u001B[1;32m     26\u001B[0m \u001B[38;5;28;01mif\u001B[39;00m \u001B[38;5;28mint\u001B[39m(response\u001B[38;5;241m.\u001B[39mstatus) \u001B[38;5;241m>\u001B[39m \u001B[38;5;241m201\u001B[39m:\n\u001B[1;32m     27\u001B[0m     data \u001B[38;5;241m=\u001B[39m \u001B[38;5;28;01mawait\u001B[39;00m response\u001B[38;5;241m.\u001B[39mjson()\n\u001B[0;32m---> 28\u001B[0m     \u001B[38;5;28;01mraise\u001B[39;00m DrukarniaAPIError(data[\u001B[38;5;124m'\u001B[39m\u001B[38;5;124mmessage\u001B[39m\u001B[38;5;124m'\u001B[39m], response\u001B[38;5;241m.\u001B[39mstatus,\n\u001B[1;32m     29\u001B[0m                             response\u001B[38;5;241m.\u001B[39mrequest_info\u001B[38;5;241m.\u001B[39mmethod, \u001B[38;5;28mstr\u001B[39m(response\u001B[38;5;241m.\u001B[39mrequest_info\u001B[38;5;241m.\u001B[39murl))\n\u001B[1;32m     31\u001B[0m \u001B[38;5;28;01mif\u001B[39;00m output \u001B[38;5;129;01mis\u001B[39;00m \u001B[38;5;28;01mNone\u001B[39;00m:\n\u001B[1;32m     32\u001B[0m     \u001B[38;5;28;01mreturn\u001B[39;00m []\n",
      "\u001B[0;31mDrukarniaAPIError\u001B[0m: \n        Request Type: GET\n        Response Status: 429\n        Request To: https://drukarnia.com.ua/api/relationships/643a985486518bfbf4936848/following?page=30\n        Error Message: \"ThrottlerException: Too Many Requests\"\n        "
     ]
    }
   ],
   "source": [
    "async with follower:\n",
    "    # collect all followings\n",
    "    all_followings = await follower.get_followings()\n",
    "\n",
    "    print(len(all_followings))\n",
    "\n",
    "# results an error\n",
    "\"\"\"\n",
    "DrukarniaAPIError:\n",
    "        Request Type: GET\n",
    "        Response Status: 429\n",
    "        Request To: https://drukarnia.com.ua/api/relationships/643a985486518bfbf4936848/following?page=30\n",
    "        Error Message: \"ThrottlerException: Too Many Requests\"\n",
    "\"\"\""
   ],
   "metadata": {
    "collapsed": false
   }
  },
  {
   "cell_type": "code",
   "execution_count": 19,
   "outputs": [
    {
     "name": "stdout",
     "output_type": "stream",
     "text": [
      "['Serdolyk', 'Av_lyu', 'H0pToad', 'anSk', 'Exemplerwriter', 'per_nat', 'rostifan', 'Spivanuk93', 'Rodj', 'Anton']\n"
     ]
    }
   ],
   "source": [
    "async with follower:\n",
    "    ten_followers = await follower.get_followers(offset=0, n_collect=10)\n",
    "\n",
    "    print([await user.username for user in ten_followers])"
   ],
   "metadata": {
    "collapsed": false
   }
  },
  {
   "cell_type": "markdown",
   "source": [
    "### Article"
   ],
   "metadata": {
    "collapsed": false
   }
  },
  {
   "cell_type": "code",
   "execution_count": 36,
   "outputs": [
    {
     "name": "stdout",
     "output_type": "stream",
     "text": [
      "Author Читач🍌 has 1 articles\n"
     ]
    }
   ],
   "source": [
    "async with follower:\n",
    "    articles = await follower.articles\n",
    "    print(f'Author {await follower.name} has {len(articles)} articles')"
   ],
   "metadata": {
    "collapsed": false
   }
  },
  {
   "cell_type": "code",
   "execution_count": 37,
   "outputs": [],
   "source": [
    "article, = articles"
   ],
   "metadata": {
    "collapsed": false
   }
  },
  {
   "cell_type": "code",
   "execution_count": 38,
   "outputs": [],
   "source": [
    "async with article:\n",
    "    await article.collect_data()"
   ],
   "metadata": {
    "collapsed": false
   }
  },
  {
   "cell_type": "code",
   "execution_count": 39,
   "outputs": [
    {
     "name": "stdout",
     "output_type": "stream",
     "text": [
      "48.0\n",
      "617\n",
      "Кого я ще не читаю?\n"
     ]
    }
   ],
   "source": [
    "print(await article.read_time)\n",
    "print(await article.number_of_like)\n",
    "print(await article.title)"
   ],
   "metadata": {
    "collapsed": false
   }
  },
  {
   "cell_type": "code",
   "execution_count": 44,
   "outputs": [
    {
     "name": "stdout",
     "output_type": "stream",
     "text": [
      "7\n",
      "5\n"
     ]
    }
   ],
   "source": [
    "async with article:\n",
    "    print(await article.my_likes)\n",
    "\n",
    "    await article.like_article(5)\n",
    "    await article.collect_data()\n",
    "\n",
    "    print(await article.my_likes)"
   ],
   "metadata": {
    "collapsed": false
   }
  },
  {
   "cell_type": "code",
   "execution_count": 45,
   "outputs": [
    {
     "name": "stdout",
     "output_type": "stream",
     "text": [
      "posted comment\n"
     ]
    }
   ],
   "source": [
    "async with article:\n",
    "    await article.post_comment('😝')\n",
    "    print('posted comment')"
   ],
   "metadata": {
    "collapsed": false
   }
  },
  {
   "cell_type": "markdown",
   "source": [
    "### Comment"
   ],
   "metadata": {
    "collapsed": false
   }
  },
  {
   "cell_type": "code",
   "execution_count": 51,
   "outputs": [
    {
     "name": "stdout",
     "output_type": "stream",
     "text": [
      "article Кого я ще не читаю? has 47 comments\n"
     ]
    }
   ],
   "source": [
    "async with article:\n",
    "    await article.collect_data()\n",
    "\n",
    "    # ONLY tree heads, replies are obtained from comment object itself\n",
    "    comments = await article.comments\n",
    "\n",
    "    print(f'article {await article.seo_title} has {len(comments)} comments')"
   ],
   "metadata": {
    "collapsed": false
   }
  },
  {
   "cell_type": "code",
   "execution_count": 52,
   "outputs": [],
   "source": [
    "comment, *_ = comments"
   ],
   "metadata": {
    "collapsed": false
   }
  },
  {
   "cell_type": "code",
   "execution_count": 57,
   "outputs": [
    {
     "data": {
      "text/plain": "{'text': '<p>я в вашій чарівній колекції вже є, але тепер Я ПІДПИСУЮСЬ НА ВАС, ЩОБ МАТИ ДОСТУП ДО <strong>УСІХ</strong> АВТОРІВ НА ЦІЙ ПЛАТФОРМІ, МУХАХАХАХХАА! </p>',\n 'number of likes': 18,\n 'number of replies': 3,\n 'have I liked it': False,\n \"owner's name\": 'сироманка🧀'}"
     },
     "execution_count": 57,
     "metadata": {},
     "output_type": "execute_result"
    }
   ],
   "source": [
    "{\n",
    "'text': await comment.text,\n",
    "'number of likes': await comment.number_of_likes,\n",
    "'number of replies': await comment.number_of_replies,\n",
    "'have I liked it': await comment.is_liked,\n",
    "'owner\\'s name': await (await comment.owner).name\n",
    "}"
   ],
   "metadata": {
    "collapsed": false
   }
  },
  {
   "cell_type": "code",
   "execution_count": 61,
   "outputs": [
    {
     "name": "stdout",
     "output_type": "stream",
     "text": [
      "comment has 3 replies\n"
     ]
    }
   ],
   "source": [
    "async with comment:\n",
    "    replies = await comment.get_replies()\n",
    "    print(f'comment has {len(replies)} replies')"
   ],
   "metadata": {
    "collapsed": false
   }
  },
  {
   "cell_type": "markdown",
   "source": [
    "### Tag"
   ],
   "metadata": {
    "collapsed": false
   }
  },
  {
   "cell_type": "code",
   "execution_count": 63,
   "outputs": [
    {
     "name": "stdout",
     "output_type": "stream",
     "text": [
      "article Кого я ще не читаю? has 5 tags\n"
     ]
    }
   ],
   "source": [
    "async with article:\n",
    "    tags = await article.article_tags\n",
    "\n",
    "    print(f'article {await article.title} has {len(tags)} tags')"
   ],
   "metadata": {
    "collapsed": false
   }
  },
  {
   "cell_type": "code",
   "execution_count": 64,
   "outputs": [],
   "source": [
    "tag, *_ = tags"
   ],
   "metadata": {
    "collapsed": false
   }
  },
  {
   "cell_type": "code",
   "execution_count": 65,
   "outputs": [
    {
     "name": "stdout",
     "output_type": "stream",
     "text": [
      "tag ukrayina was mentioned 439\n"
     ]
    }
   ],
   "source": [
    "print(f'tag {await tag.slug} was mentioned {await tag.mentions_num}')"
   ],
   "metadata": {
    "collapsed": false
   }
  },
  {
   "cell_type": "code",
   "execution_count": 66,
   "outputs": [
    {
     "name": "stdout",
     "output_type": "stream",
     "text": [
      "retrieved 6 related tags to tag ukrayina\n"
     ]
    }
   ],
   "source": [
    "async with tag:\n",
    "    related = await tag.related_tags()\n",
    "\n",
    "    print(f'retrieved {len(related)} related tags to tag {await tag.slug}')"
   ],
   "metadata": {
    "collapsed": false
   }
  },
  {
   "cell_type": "code",
   "execution_count": 73,
   "outputs": [
    {
     "data": {
      "text/plain": "['Війна', 'Політика', 'Українізація', 'Історія', 'Культура', 'Література']"
     },
     "execution_count": 73,
     "metadata": {},
     "output_type": "execute_result"
    }
   ],
   "source": [
    "[await t.name for t in related]"
   ],
   "metadata": {
    "collapsed": false
   }
  },
  {
   "cell_type": "markdown",
   "source": [
    "### How aiohttp sessions are managed?\n",
    "\n",
    "#### Automatic Session Management:\n",
    "\n",
    "> After creating an object:\n",
    "> ```py\n",
    "> author = drukarnia_api.Author(username='drukarnia')\n",
    "> ```\n",
    "> ##### Headers (drukarnia_api.Headers) and cookies (drukarnia_api.DrukarniaCookies) are instantly created. However, the session will be created/closed only inside the context manager (__aenter__() and __aexit__()):\n",
    "> ```py\n",
    "> async with author:\n",
    ">    follower, *others = await author.get_followers(n_collect=1)\n",
    ">    print(await follower.name)\n",
    "> ```\n",
    "> ##### All drukarnia_api objects (e.g., follower ~ drukarnia_api.Author) created inside the context manager will inherit the manager's (in this context, author) session and credentials. This means that inside the same context window, all created objects can make requests without any additional context managers, with the same authentication cookies. Once the context manager is exited, the session will be closed, but credentials will be saved. Example:\n",
    "> ```py\n",
    "> async with author:\n",
    ">     follower, *others = await author.get_followers(n_collect=1)\n",
    ">\n",
    ">     # Subscribe to your follower from the author's account\n",
    ">     await follower.subscribe()\n",
    ">\n",
    "> async with follower:\n",
    ">     # Unsubscribe to your follower from the author's account\n",
    ">     await follower.subscribe(unsubscribe=True)\n",
    "> ```\n",
    "> ##### Note that this logic is also applicable for properties.\n",
    "> ##### Example | (credentials shared):\n",
    "\n",
    "> ```py\n",
    "> async with author:\n",
    ">     article, *_ = await author.articles\n",
    ">\n",
    "> async with article:\n",
    ">     await article.like_article(1)\n",
    "> ```\n",
    "> ##### Example || (credentials NOT shared):\n",
    "\n",
    "> ```py\n",
    "> article, *_ = await author.articles\n",
    ">\n",
    "> async with article:\n",
    ">     # Error: 'User needs to sign up first'\n",
    ">     await article.like_article(1)\n",
    "> ```\n",
    "\n",
    "#### Manual Session Management:\n",
    "\n",
    "> ##### You can create your own session and pass it to the object. In this case, you don't need to use a context manager; however, it's your responsibility to close the session. Example:\n",
    "\n",
    "> ```py\n",
    "> import drukarnia_api\n",
    "> import aiohttp\n",
    ">\n",
    "> custom_session = aiohttp.ClientSession(\n",
    ">     base_url=drukarnia_api.Connection.base_url,\n",
    ">     # cookies=drukarnia_api.DrukarniaCookies(),\n",
    ">     # headers=...\n",
    "> )\n",
    ">\n",
    "> author = drukarnia_api.Author(username='drukarnia', session=custom_session)\n",
    ">\n",
    "> # Follower's session == custom_session\n",
    "> follower, *others = await author.get_followers(n_collect=1)\n",
    ">\n",
    "> await custom_session.close()\n",
    "> ```"
   ],
   "metadata": {
    "collapsed": false
   }
  },
  {
   "cell_type": "code",
   "execution_count": null,
   "outputs": [],
   "source": [],
   "metadata": {
    "collapsed": false
   }
  }
 ],
 "metadata": {
  "kernelspec": {
   "display_name": "Python 3",
   "language": "python",
   "name": "python3"
  },
  "language_info": {
   "codemirror_mode": {
    "name": "ipython",
    "version": 2
   },
   "file_extension": ".py",
   "mimetype": "text/x-python",
   "name": "python",
   "nbconvert_exporter": "python",
   "pygments_lexer": "ipython2",
   "version": "2.7.6"
  }
 },
 "nbformat": 4,
 "nbformat_minor": 0
}
