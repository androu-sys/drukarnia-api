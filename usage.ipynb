{
 "cells": [
  {
   "cell_type": "code",
   "execution_count": 1,
   "metadata": {
    "collapsed": true
   },
   "outputs": [
    {
     "name": "stdout",
     "output_type": "stream",
     "text": [
      "Слава Україні 🇺🇦\n"
     ]
    }
   ],
   "source": [
    "%load_ext autoreload\n",
    "%autoreload 2\n",
    "\n",
    "import drukarnia_api"
   ]
  },
  {
   "cell_type": "markdown",
   "source": [
    "### author"
   ],
   "metadata": {
    "collapsed": false
   },
   "outputs": [],
   "execution_count": 1
  },
  {
   "cell_type": "code",
   "execution_count": 2,
   "outputs": [],
   "source": [
    "# create an author\n",
    "author = drukarnia_api.Author(username='<your username>')"
   ],
   "metadata": {
    "collapsed": false
   }
  },
  {
   "cell_type": "code",
   "execution_count": 3,
   "outputs": [],
   "source": [
    "# Context manager creates an aiohttp session\n",
    "async with author:\n",
    "    # Password and email are not stored.\n",
    "    await author.login(email='<your email>', password='<your password>')"
   ],
   "metadata": {
    "collapsed": false
   }
  },
  {
   "cell_type": "code",
   "execution_count": 4,
   "outputs": [
    {
     "name": "stdout",
     "output_type": "stream",
     "text": [
      "my follower's name is Читач🍌\n",
      "my follower created account at 2023-04-15 12:28:04.246000\n",
      "am I subscribed to my follower? - False\n"
     ]
    }
   ],
   "source": [
    "async with author:\n",
    "    follower, = await author.get_followers(n_collect=1)\n",
    "\n",
    "    # collect profile's data about your follower\n",
    "    await follower.collect_data()\n",
    "\n",
    "    print('my follower\\'s name is', await follower.name)\n",
    "    print('my follower created account at', await follower.created_at)\n",
    "    print('am I subscribed to my follower? -', await follower.is_subscribed)"
   ],
   "metadata": {
    "collapsed": false
   }
  },
  {
   "cell_type": "code",
   "execution_count": 5,
   "outputs": [
    {
     "name": "stdout",
     "output_type": "stream",
     "text": [
      "am I subscribed to my follower now? - True\n"
     ]
    }
   ],
   "source": [
    "async with follower:\n",
    "    await follower.subscribe()\n",
    "\n",
    "    # update data by requesting new one\n",
    "    await follower.collect_data()\n",
    "\n",
    "    print('am I subscribed to my follower now? -', await follower.is_subscribed)"
   ],
   "metadata": {
    "collapsed": false
   }
  },
  {
   "cell_type": "code",
   "execution_count": 6,
   "outputs": [
    {
     "name": "stdout",
     "output_type": "stream",
     "text": [
      "my follower also follows ブラックライト\n"
     ]
    }
   ],
   "source": [
    "async with follower:\n",
    "    fol1, = await follower.get_followings(n_collect=1)\n",
    "    print('my follower also follows', await fol1.name)"
   ],
   "metadata": {
    "collapsed": false
   }
  },
  {
   "cell_type": "markdown",
   "source": [
    "### Article"
   ],
   "metadata": {
    "collapsed": false
   }
  },
  {
   "cell_type": "code",
   "execution_count": 7,
   "outputs": [
    {
     "name": "stdout",
     "output_type": "stream",
     "text": [
      "Читач🍌 has an article named \"Кого я ще не читаю?\"\n"
     ]
    }
   ],
   "source": [
    "async with follower:\n",
    "    article, *_ = await follower.articles\n",
    "    print(f'{await follower.name} has an article named \"{await article.title}\"')"
   ],
   "metadata": {
    "collapsed": false
   }
  },
  {
   "cell_type": "code",
   "execution_count": 9,
   "outputs": [
    {
     "name": "stdout",
     "output_type": "stream",
     "text": [
      "Article's length is 48.0  seconds\n"
     ]
    }
   ],
   "source": [
    "async with article:\n",
    "    await article.collect_data()\n",
    "\n",
    "    print('Article\\'s length is', await article.read_time, ' seconds')"
   ],
   "metadata": {
    "collapsed": false
   }
  },
  {
   "cell_type": "code",
   "execution_count": 11,
   "outputs": [
    {
     "name": "stdout",
     "output_type": "stream",
     "text": [
      "I liked this article 10  times\n",
      "this article has 620  likes\n",
      "I liked this article 1  times\n",
      "this article has 611  likes\n"
     ]
    }
   ],
   "source": [
    "async with article:\n",
    "    print('I liked this article', await article.my_likes, ' times')\n",
    "    print('this article has', await article.number_of_likes, ' likes')\n",
    "\n",
    "    await article.like_article(1)\n",
    "    await article.collect_data()\n",
    "\n",
    "    print('I liked this article', await article.my_likes, ' times')\n",
    "    print('this article has', await article.number_of_likes, ' likes')"
   ],
   "metadata": {
    "collapsed": false
   }
  },
  {
   "cell_type": "code",
   "execution_count": 12,
   "outputs": [
    {
     "name": "stdout",
     "output_type": "stream",
     "text": [
      "This article has 54  comments\n",
      "Now this article has 55  comments\n"
     ]
    }
   ],
   "source": [
    "async with article:\n",
    "    print('This article has', await article.number_of_comments, ' comments')\n",
    "\n",
    "    await article.post_comment('Hello, World!')\n",
    "    await article.collect_data()\n",
    "\n",
    "    print('Now this article has', await article.number_of_comments, ' comments')"
   ],
   "metadata": {
    "collapsed": false
   }
  },
  {
   "cell_type": "markdown",
   "source": [
    "### Comment"
   ],
   "metadata": {
    "collapsed": false
   }
  },
  {
   "cell_type": "code",
   "execution_count": 13,
   "outputs": [
    {
     "name": "stdout",
     "output_type": "stream",
     "text": [
      "article Кого я ще не читаю? has 48 comments\n"
     ]
    }
   ],
   "source": [
    "async with article:\n",
    "    # ⚠️ONLY tree heads⚠️, replies are obtained from comment object itself\n",
    "    comment, *_ = await article.comments\n",
    "\n",
    "    print(f'article {await article.seo_title} has {len(_) + 1} comments')"
   ],
   "metadata": {
    "collapsed": false
   }
  },
  {
   "cell_type": "code",
   "execution_count": 14,
   "outputs": [
    {
     "data": {
      "text/plain": "{'text': '<p>я в вашій чарівній колекції вже є, але тепер Я ПІДПИСУЮСЬ НА ВАС, ЩОБ МАТИ ДОСТУП ДО <strong>УСІХ</strong> АВТОРІВ НА ЦІЙ ПЛАТФОРМІ, МУХАХАХАХХАА! </p>',\n 'number of likes': 18,\n 'number of replies': 3,\n 'have I liked it': False,\n \"owner's name\": 'сироманка🧀'}"
     },
     "execution_count": 14,
     "metadata": {},
     "output_type": "execute_result"
    }
   ],
   "source": [
    "{\n",
    "'text': await comment.text,\n",
    "'number of likes': await comment.number_of_likes,\n",
    "'number of replies': await comment.number_of_replies,\n",
    "'have I liked it': await comment.is_liked,\n",
    "'owner\\'s name': await (await comment.owner).name\n",
    "}"
   ],
   "metadata": {
    "collapsed": false
   }
  },
  {
   "cell_type": "code",
   "execution_count": 15,
   "outputs": [
    {
     "name": "stdout",
     "output_type": "stream",
     "text": [
      "comment has 3 replies\n"
     ]
    },
    {
     "data": {
      "text/plain": "['<p><a data-type=\"mention\" class=\"fw-semibold no-decor mention\" target=\"_blank\" data-id=\"cupomanka\" href=\"/cupomanka\">@cupomanka</a> а я підпишусь на вас</p>',\n '<p><a data-type=\"mention\" class=\"fw-semibold no-decor mention\" target=\"_blank\" data-id=\"cupomanka\" href=\"/cupomanka\">@cupomanka</a> А в мене показує менше ніж 1,7к🥺</p>',\n '<p><a data-type=\"mention\" class=\"fw-semibold no-decor mention\" target=\"_blank\" data-id=\"Result\" href=\"/Result\">@Result</a> та, поки що через обмеження показується лише останні 100 читачів/авторів, а не фул список. Сподіваємось пофіксять :’D</p>']"
     },
     "execution_count": 15,
     "metadata": {},
     "output_type": "execute_result"
    }
   ],
   "source": [
    "async with comment:\n",
    "    replies = await comment.get_replies()\n",
    "\n",
    "print(f'comment has {len(replies)} replies')\n",
    "[await repl.text for repl in replies]"
   ],
   "metadata": {
    "collapsed": false
   }
  },
  {
   "cell_type": "markdown",
   "source": [
    "### Tag"
   ],
   "metadata": {
    "collapsed": false
   }
  },
  {
   "cell_type": "code",
   "execution_count": 16,
   "outputs": [
    {
     "name": "stdout",
     "output_type": "stream",
     "text": [
      "article Кого я ще не читаю? has 5 tags\n"
     ]
    }
   ],
   "source": [
    "async with article:\n",
    "    tag, *_ = await article.article_tags\n",
    "\n",
    "    print(f'article {await article.title} has {len(_) + 1} tags')"
   ],
   "metadata": {
    "collapsed": false
   }
  },
  {
   "cell_type": "code",
   "execution_count": 18,
   "outputs": [
    {
     "name": "stdout",
     "output_type": "stream",
     "text": [
      "tag ukrayina has been mentioned 439 times\n"
     ]
    }
   ],
   "source": [
    "print(f'tag {await tag.slug} has been mentioned {await tag.mentions_num} times')"
   ],
   "metadata": {
    "collapsed": false
   }
  },
  {
   "cell_type": "code",
   "execution_count": 19,
   "outputs": [
    {
     "name": "stdout",
     "output_type": "stream",
     "text": [
      "tag ukrayina has 6 related tags\n"
     ]
    },
    {
     "data": {
      "text/plain": "['Війна', 'Політика', 'Українізація', 'Історія', 'Культура', 'Література']"
     },
     "execution_count": 19,
     "metadata": {},
     "output_type": "execute_result"
    }
   ],
   "source": [
    "async with tag:\n",
    "    related = await tag.related_tags()\n",
    "\n",
    "print(f'tag {await tag.slug} has {len(related)} related tags')\n",
    "[await t.name for t in related]"
   ],
   "metadata": {
    "collapsed": false
   }
  },
  {
   "cell_type": "markdown",
   "source": [
    "### How aiohttp sessions are managed?\n",
    "\n",
    "#### Automatic Session Management:\n",
    "\n",
    "> After creating an object:\n",
    "> ```py\n",
    "> author = drukarnia_api.Author(username='drukarnia')\n",
    "> ```\n",
    "> ##### Headers (drukarnia_api.Headers) and cookies (drukarnia_api.DrukarniaCookies) are instantly created. However, the session will be created/closed only inside the context manager (__aenter__() and __aexit__()):\n",
    "> ```py\n",
    "> async with author:\n",
    ">    follower, *others = await author.get_followers(n_collect=1)\n",
    ">    print(await follower.name)\n",
    "> ```\n",
    "> ##### All drukarnia_api objects (e.g., follower ~ drukarnia_api.Author) created inside the context manager will inherit the manager's (in this context, author) session and credentials. This means that inside the same context window, all created objects can make requests without any additional context managers, with the same authentication cookies. Once the context manager is exited, the session will be closed, but credentials will be saved. Example:\n",
    "> ```py\n",
    "> async with author:\n",
    ">     follower, *others = await author.get_followers(n_collect=1)\n",
    ">\n",
    ">     # Subscribe to your follower from the author's account\n",
    ">     await follower.subscribe()\n",
    ">\n",
    "> async with follower:\n",
    ">     # Unsubscribe to your follower from the author's account\n",
    ">     await follower.subscribe(unsubscribe=True)\n",
    "> ```\n",
    "> ##### Note that this logic is also applicable for properties.\n",
    "> ##### Example | (credentials shared):\n",
    "\n",
    "> ```py\n",
    "> async with author:\n",
    ">     article, *_ = await author.articles\n",
    ">\n",
    "> async with article:\n",
    ">     await article.like_article(1)\n",
    "> ```\n",
    "> ##### Example || (credentials NOT shared):\n",
    "\n",
    "> ```py\n",
    "> article, *_ = await author.articles\n",
    ">\n",
    "> async with article:\n",
    ">     # Error: 'User needs to sign up first'\n",
    ">     await article.like_article(1)\n",
    "> ```\n",
    "\n",
    "#### Manual Session Management:\n",
    "\n",
    "> ##### You can create your own session and pass it to the object. In this case, you don't need to use a context manager; however, it's your responsibility to close the session. Example:\n",
    "\n",
    "> ```py\n",
    "> import drukarnia_api\n",
    "> import aiohttp\n",
    ">\n",
    "> custom_session = aiohttp.ClientSession(\n",
    ">     base_url=drukarnia_api.Connection.base_url,\n",
    ">     # cookies=drukarnia_api.DrukarniaCookies(),\n",
    ">     # headers=...\n",
    "> )\n",
    ">\n",
    "> author = drukarnia_api.Author(username='drukarnia', session=custom_session)\n",
    ">\n",
    "> # Follower's session == custom_session\n",
    "> follower, *others = await author.get_followers(n_collect=1)\n",
    ">\n",
    "> await custom_session.close()\n",
    "> ```"
   ],
   "metadata": {
    "collapsed": false
   }
  },
  {
   "cell_type": "markdown",
   "source": [
    "<img src=\"https://media.tenor.com/v88ccbQm9GQAAAAM/thank-you-for-your-time-charlie-hudson.gif\" width=\"500\" height=\"500\" />"
   ],
   "metadata": {
    "collapsed": false
   }
  },
  {
   "cell_type": "code",
   "execution_count": null,
   "outputs": [],
   "source": [],
   "metadata": {
    "collapsed": false
   }
  }
 ],
 "metadata": {
  "kernelspec": {
   "display_name": "Python 3",
   "language": "python",
   "name": "python3"
  },
  "language_info": {
   "codemirror_mode": {
    "name": "ipython",
    "version": 2
   },
   "file_extension": ".py",
   "mimetype": "text/x-python",
   "name": "python",
   "nbconvert_exporter": "python",
   "pygments_lexer": "ipython2",
   "version": "2.7.6"
  }
 },
 "nbformat": 4,
 "nbformat_minor": 0
}
