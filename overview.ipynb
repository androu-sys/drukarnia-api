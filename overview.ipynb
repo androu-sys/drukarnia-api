{
 "cells": [
  {
   "cell_type": "markdown",
   "source": [
    "# drukarnia_api overview"
   ],
   "metadata": {
    "collapsed": false
   }
  },
  {
   "cell_type": "markdown",
   "source": [
    "The drukarnia_api library utilizes asyncio loops. To run this library in Jupyter Notebook, we need to set up nest_asyncio. However, in other circumstances, no additional libraries are necessary."
   ],
   "metadata": {
    "collapsed": false
   }
  },
  {
   "cell_type": "code",
   "execution_count": 1,
   "outputs": [],
   "source": [
    "import nest_asyncio\n",
    "nest_asyncio.apply()"
   ],
   "metadata": {
    "collapsed": false
   }
  },
  {
   "cell_type": "markdown",
   "source": [
    "## DrukarniaAPI"
   ],
   "metadata": {
    "collapsed": false
   }
  },
  {
   "cell_type": "markdown",
   "source": [
    "**DrukarniaAPI** is the main object used for interacting with the _Drukarnia_ Platform. Let's begin by importing it."
   ],
   "metadata": {
    "collapsed": false
   }
  },
  {
   "cell_type": "code",
   "execution_count": 2,
   "outputs": [],
   "source": [
    "from drukarnia_api import DrukarniaAPI"
   ],
   "metadata": {
    "collapsed": false
   }
  },
  {
   "cell_type": "markdown",
   "source": [
    "Firstly, we need to initialize the **DrukarniaAPI** object. The **DrukarniaAPI** class does not require any mandatory parameters."
   ],
   "metadata": {
    "collapsed": false
   }
  },
  {
   "cell_type": "code",
   "execution_count": 3,
   "outputs": [
    {
     "name": "stdout",
     "output_type": "stream",
     "text": [
      "CPU times: user 10.3 ms, sys: 5.4 ms, total: 15.7 ms\n",
      "Wall time: 16.6 ms\n"
     ]
    }
   ],
   "source": [
    "%%time\n",
    "api = DrukarniaAPI()"
   ],
   "metadata": {
    "collapsed": false
   }
  },
  {
   "cell_type": "code",
   "execution_count": 4,
   "outputs": [
    {
     "name": "stdout",
     "output_type": "stream",
     "text": [
      "<class 'drukarnia_api.DrukarniaAPI'>\n"
     ]
    }
   ],
   "source": [
    "print(type(api))"
   ],
   "metadata": {
    "collapsed": false
   }
  },
  {
   "cell_type": "markdown",
   "source": [
    "## Author"
   ],
   "metadata": {
    "collapsed": false
   }
  },
  {
   "cell_type": "markdown",
   "source": [
    "We can retrieve information about an author by their username using the **```DrukarniaAPI.get_author```** method."
   ],
   "metadata": {
    "collapsed": false
   }
  },
  {
   "cell_type": "code",
   "execution_count": 5,
   "outputs": [
    {
     "name": "stdout",
     "output_type": "stream",
     "text": [
      "CPU times: user 29.8 ms, sys: 9.62 ms, total: 39.4 ms\n",
      "Wall time: 252 ms\n"
     ]
    }
   ],
   "source": [
    "%%time\n",
    "\n",
    "# Let's find one of my favorite Drukarnia authors. @cupomanka\n",
    "author = api.get_author('cupomanka')"
   ],
   "metadata": {
    "collapsed": false
   }
  },
  {
   "cell_type": "code",
   "execution_count": 6,
   "outputs": [
    {
     "name": "stdout",
     "output_type": "stream",
     "text": [
      "<class 'author.Author'>\n"
     ]
    }
   ],
   "source": [
    "print(type(author))"
   ],
   "metadata": {
    "collapsed": false
   }
  },
  {
   "cell_type": "markdown",
   "source": [
    "The **Author** class represents the methods specific to a _Drukarnia_ author. When we obtain an author using **```DrukarniaAPI.get_author```**, the resulting object already contains most of the necessary information."
   ],
   "metadata": {
    "collapsed": false
   }
  },
  {
   "cell_type": "code",
   "execution_count": 7,
   "outputs": [
    {
     "data": {
      "text/plain": "dict_keys(['_id', 'avatar', 'description', 'followingNum', 'followersNum', 'username', 'authorTags', 'createdAt', 'name', 'socials', 'readNum', 'donateUrl', 'descriptionShort', 'relationships', 'articles'])"
     },
     "execution_count": 7,
     "metadata": {},
     "output_type": "execute_result"
    }
   ],
   "source": [
    "author.data.keys()"
   ],
   "metadata": {
    "collapsed": false
   }
  },
  {
   "cell_type": "markdown",
   "source": [
    "However, sometimes we may want to obtain followers and followings individually rather than just an abstract number. In such cases, you can utilize the **```Author.collect_followers```** and **```Author.collect_followings```** methods, respectively.\n",
    "\n",
    "These methods require the **``` batch_size ```** parameter, which determines the number of pages to be scraped simultaneously. By default, its value is set to **```5```**.\n",
    "\n",
    "The output of these methods is a list of followers or followings. Each element in the list corresponds to an **```Author```** object"
   ],
   "metadata": {
    "collapsed": false
   }
  },
  {
   "cell_type": "markdown",
   "source": [
    "#### followers"
   ],
   "metadata": {
    "collapsed": false
   }
  },
  {
   "cell_type": "code",
   "execution_count": 8,
   "outputs": [
    {
     "name": "stdout",
     "output_type": "stream",
     "text": [
      "CPU times: user 37.9 ms, sys: 8.66 ms, total: 46.6 ms\n",
      "Wall time: 286 ms\n"
     ]
    }
   ],
   "source": [
    "%%time\n",
    "\n",
    "# get all followers of @cupomanka author\n",
    "followers = author.collect_followers(batch_size=5)"
   ],
   "metadata": {
    "collapsed": false
   }
  },
  {
   "cell_type": "code",
   "execution_count": 9,
   "outputs": [
    {
     "name": "stdout",
     "output_type": "stream",
     "text": [
      "cupomanka has 121 followers\n",
      "cupomanka's oldest follower is @drukarniaua\n"
     ]
    }
   ],
   "source": [
    "# print the length\n",
    "print(f'cupomanka has {len(followers)} followers')\n",
    "\n",
    "# print the oldest follower\n",
    "print('cupomanka\\'s oldest follower is @{}'.format(followers[-1].data['username']))"
   ],
   "metadata": {
    "collapsed": false
   }
  },
  {
   "cell_type": "markdown",
   "source": [
    "#### followings"
   ],
   "metadata": {
    "collapsed": false
   }
  },
  {
   "cell_type": "code",
   "execution_count": 10,
   "outputs": [
    {
     "name": "stdout",
     "output_type": "stream",
     "text": [
      "CPU times: user 12.3 ms, sys: 4.27 ms, total: 16.6 ms\n",
      "Wall time: 86.9 ms\n"
     ]
    }
   ],
   "source": [
    "%%time\n",
    "\n",
    "# get all followers of @cupomanka author\n",
    "followings = author.collect_followings(batch_size=5)"
   ],
   "metadata": {
    "collapsed": false
   }
  },
  {
   "cell_type": "code",
   "execution_count": 11,
   "outputs": [
    {
     "name": "stdout",
     "output_type": "stream",
     "text": [
      "cupomanka follows 49 authors\n",
      "cupomanka's first following was @drukarniaua\n"
     ]
    }
   ],
   "source": [
    "\n",
    "# print the length\n",
    "print(f'cupomanka follows {len(followings)} authors')\n",
    "\n",
    "# print the oldest follower\n",
    "print('cupomanka\\'s first following was @{}'.format(followings[-1].data['username']))"
   ],
   "metadata": {
    "collapsed": false
   }
  },
  {
   "cell_type": "markdown",
   "source": [
    "## Articles"
   ],
   "metadata": {
    "collapsed": false
   }
  },
  {
   "cell_type": "markdown",
   "source": [
    "To obtain information about an article using its title (slug), you can utilize the **```DrukarniaAPI.get_article```** method."
   ],
   "metadata": {
    "collapsed": false
   }
  },
  {
   "cell_type": "code",
   "execution_count": 12,
   "outputs": [],
   "source": [
    "# get an article\n",
    "article_title = author.data['articles'][0]['slug']"
   ],
   "metadata": {
    "collapsed": false
   }
  },
  {
   "cell_type": "code",
   "execution_count": 13,
   "outputs": [
    {
     "name": "stdout",
     "output_type": "stream",
     "text": [
      "CPU times: user 5.85 ms, sys: 2.88 ms, total: 8.72 ms\n",
      "Wall time: 188 ms\n"
     ]
    }
   ],
   "source": [
    "%%time\n",
    "\n",
    "article = api.get_article(article_title)"
   ],
   "metadata": {
    "collapsed": false
   }
  },
  {
   "cell_type": "code",
   "execution_count": 14,
   "outputs": [
    {
     "name": "stdout",
     "output_type": "stream",
     "text": [
      "<class 'article.Article'>\n"
     ]
    }
   ],
   "source": [
    "print(type(article))"
   ],
   "metadata": {
    "collapsed": false
   }
  },
  {
   "cell_type": "markdown",
   "source": [
    "The **Article** class represents the methods specific to a _Drukarnia_ article. When we obtain an article using **```DrukarniaAPI.get_article```**, the resulting object already includes all the available information about the article."
   ],
   "metadata": {
    "collapsed": false
   }
  },
  {
   "cell_type": "code",
   "execution_count": 15,
   "outputs": [
    {
     "data": {
      "text/plain": "dict_keys(['_id', 'title', 'seoTitle', 'description', 'picture', 'mainTag', 'tags', 'index', 'sensitive', 'likeNum', 'commentNum', 'readTime', 'slug', 'mainTagSlug', 'mainTagId', 'createdAt', 'thumbPicture', 'authorArticles', 'content', 'isLiked', 'owner', 'isBookmarked', 'relationships', 'recommendedArticles', 'comments'])"
     },
     "execution_count": 15,
     "metadata": {},
     "output_type": "execute_result"
    }
   ],
   "source": [
    "article.data.keys()"
   ],
   "metadata": {
    "collapsed": false
   }
  },
  {
   "cell_type": "code",
   "execution_count": null,
   "outputs": [],
   "source": [],
   "metadata": {
    "collapsed": false
   }
  }
 ],
 "metadata": {
  "kernelspec": {
   "display_name": "Python 3",
   "language": "python",
   "name": "python3"
  },
  "language_info": {
   "codemirror_mode": {
    "name": "ipython",
    "version": 2
   },
   "file_extension": ".py",
   "mimetype": "text/x-python",
   "name": "python",
   "nbconvert_exporter": "python",
   "pygments_lexer": "ipython2",
   "version": "2.7.6"
  }
 },
 "nbformat": 4,
 "nbformat_minor": 0
}
