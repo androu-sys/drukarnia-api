{
 "cells": [
  {
   "cell_type": "code",
   "execution_count": 1,
   "outputs": [],
   "source": [
    "from drukarnia_api import Author\n",
    "import time"
   ],
   "metadata": {
    "collapsed": false
   }
  },
  {
   "cell_type": "code",
   "execution_count": 2,
   "outputs": [],
   "source": [
    "async def timeit(func, iters: int = 10, *args, **kwargs):\n",
    "    st = time.time()\n",
    "\n",
    "    for _ in range(iters):\n",
    "        result = await func(*args, **kwargs)\n",
    "\n",
    "    ft = (time.time() - st) / iters\n",
    "    print(f'function {func.__name__} completed in {ft:.2f}s')\n",
    "\n",
    "    return result"
   ],
   "metadata": {
    "collapsed": false
   }
  },
  {
   "cell_type": "code",
   "execution_count": 3,
   "outputs": [],
   "source": [
    "author = Author('digitalowltop')"
   ],
   "metadata": {
    "collapsed": false
   }
  },
  {
   "cell_type": "code",
   "execution_count": 4,
   "outputs": [
    {
     "name": "stdout",
     "output_type": "stream",
     "text": [
      "function collect_data completed in 0.10s\n"
     ]
    }
   ],
   "source": [
    "await timeit(author.collect_data, return_=False)"
   ],
   "metadata": {
    "collapsed": false
   }
  },
  {
   "cell_type": "code",
   "execution_count": 5,
   "outputs": [
    {
     "data": {
      "text/plain": "(datetime.datetime(2023, 5, 7, 6, 52, 49, 536000), 2)"
     },
     "execution_count": 5,
     "metadata": {},
     "output_type": "execute_result"
    }
   ],
   "source": [
    "author.created_at, author.followers_num"
   ],
   "metadata": {
    "collapsed": false
   }
  },
  {
   "cell_type": "code",
   "execution_count": 17,
   "outputs": [
    {
     "name": "stdout",
     "output_type": "stream",
     "text": [
      "function get_followers completed in 0.24s\n"
     ]
    },
    {
     "data": {
      "text/plain": "('Cherpak', 'vas_hr')"
     },
     "execution_count": 17,
     "metadata": {},
     "output_type": "execute_result"
    }
   ],
   "source": [
    "follower_1, follower_2 = await timeit(author.get_followers, create_authors=True, iters=1)\n",
    "follower_1.username, follower_2.username"
   ],
   "metadata": {
    "collapsed": false
   }
  },
  {
   "cell_type": "code",
   "execution_count": 21,
   "outputs": [
    {
     "name": "stdout",
     "output_type": "stream",
     "text": [
      "function get_followers completed in 0.08s\n"
     ]
    },
    {
     "data": {
      "text/plain": "'Cherpak'"
     },
     "execution_count": 21,
     "metadata": {},
     "output_type": "execute_result"
    }
   ],
   "source": [
    "follower_1, = await timeit(author.get_followers, create_authors=True, n_collect=1, iters=1)\n",
    "follower_1.username"
   ],
   "metadata": {
    "collapsed": false
   }
  },
  {
   "cell_type": "code",
   "execution_count": 22,
   "outputs": [
    {
     "name": "stdout",
     "output_type": "stream",
     "text": [
      "function get_followers completed in 0.22s\n"
     ]
    },
    {
     "data": {
      "text/plain": "'vas_hr'"
     },
     "execution_count": 22,
     "metadata": {},
     "output_type": "execute_result"
    }
   ],
   "source": [
    "follower_2, = await timeit(author.get_followers, create_authors=True, offset=1, iters=1)\n",
    "follower_2.username"
   ],
   "metadata": {
    "collapsed": false
   }
  },
  {
   "cell_type": "code",
   "execution_count": 34,
   "outputs": [
    {
     "data": {
      "text/plain": "'Маркетинг'"
     },
     "execution_count": 34,
     "metadata": {},
     "output_type": "execute_result"
    }
   ],
   "source": [
    "(await author.author_tags)[0].name"
   ],
   "metadata": {
    "collapsed": false
   }
  },
  {
   "cell_type": "code",
   "execution_count": null,
   "outputs": [],
   "source": [],
   "metadata": {
    "collapsed": false
   }
  }
 ],
 "metadata": {
  "kernelspec": {
   "display_name": "Python 3",
   "language": "python",
   "name": "python3"
  },
  "language_info": {
   "codemirror_mode": {
    "name": "ipython",
    "version": 2
   },
   "file_extension": ".py",
   "mimetype": "text/x-python",
   "name": "python",
   "nbconvert_exporter": "python",
   "pygments_lexer": "ipython2",
   "version": "2.7.6"
  }
 },
 "nbformat": 4,
 "nbformat_minor": 0
}
